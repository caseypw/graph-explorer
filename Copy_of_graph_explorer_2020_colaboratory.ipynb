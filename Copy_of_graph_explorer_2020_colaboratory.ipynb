{
  "nbformat": 4,
  "nbformat_minor": 0,
  "metadata": {
    "colab": {
      "name": "Copy of graph-explorer-2020-colaboratory.ipynb",
      "provenance": [],
      "collapsed_sections": [],
      "include_colab_link": true
    },
    "kernelspec": {
      "display_name": "Python 3",
      "language": "python",
      "name": "python3"
    }
  },
  "cells": [
    {
      "cell_type": "markdown",
      "metadata": {
        "id": "view-in-github",
        "colab_type": "text"
      },
      "source": [
        "<a href=\"https://colab.research.google.com/github/wrgr/graph-explorer/blob/master/Copy_of_graph_explorer_2020_colaboratory.ipynb\" target=\"_parent\"><img src=\"https://colab.research.google.com/assets/colab-badge.svg\" alt=\"Open In Colab\"/></a>"
      ]
    },
    {
      "cell_type": "markdown",
      "metadata": {
        "id": "FaDh1VZeBiYd",
        "colab_type": "text"
      },
      "source": [
        "# Getting Data\n",
        "\n",
        "First, we want to grab some graphs and subject covariates from a web-accessible url.  We've given this to you on github rather than having you set up aws s3 credentials or asking you to mount data in colab, in the interest of saving time. The original data is hosted at m2g.io\n",
        "\n",
        "Below, you will be getting the following dataset:\n",
        "\n",
        "| Property | Value |\n",
        "|:--------:|:-----:|\n",
        "| Dataset  | SWU4  |\n",
        "| N-Subjects  | 454   |\n",
        "| Scans-per-subjects | 2 |\n",
        "| Atlases | Desikan, CPAC200 |\n",
        "| Desikan Nodes | 70 |\n",
        "| CPAC200 Nodes | 200 |\n",
        "\n",
        "The covariates you have are: `SUBID, SESSION, AGE_AT_SCAN_1, SEX, RESTING_STATE_INSTRUCTION, TIME_OF_DAY, SEASON, SATIETY, LMP`. There are other columns in the `.csv` file (downloaded in the next step) but they are populated with a `#` meaning that the value was not recorded.\n",
        "\n",
        "There are several other atlases available - you can change which one you use \n",
        "Running the cell below will get you the data. **Please note, you only have to run these two cells once!!!**"
      ]
    },
    {
      "cell_type": "markdown",
      "metadata": {
        "id": "ooADCxCFBiYf",
        "colab_type": "text"
      },
      "source": [
        "## Loading Graphs + Covariates\n",
        "Run the following cells of code to load the graphs into your computer, as well as the covariates."
      ]
    },
    {
      "cell_type": "code",
      "metadata": {
        "id": "3xObMV13BiYf",
        "colab_type": "code",
        "colab": {}
      },
      "source": [
        "!pip install networkx==1.9 #networkx broke backwards compatibility with these graph files\n",
        "import numpy as np\n",
        "import networkx as nx\n",
        "import scipy as sp\n",
        "import matplotlib.pyplot as plt\n",
        "import os\n",
        "import csv\n",
        "\n",
        "\n",
        "from collections import OrderedDict"
      ],
      "execution_count": 0,
      "outputs": []
    },
    {
      "cell_type": "code",
      "metadata": {
        "id": "6Ay3N2S4BiYk",
        "colab_type": "code",
        "colab": {}
      },
      "source": [
        "## IF YOU FOLLOW THIS APPROACH, YOU'LL NEED TO TAKE ADDITONAL STEPS TO GET DATA ON YOUR DRIVE!!!\n",
        "!git clone https://github.com/wrgr/graph-explorer.git"
      ],
      "execution_count": 0,
      "outputs": []
    },
    {
      "cell_type": "code",
      "metadata": {
        "id": "EobgajJCCz31",
        "colab_type": "code",
        "colab": {}
      },
      "source": [
        "!ls 'graph-explorer/SWU4'\n",
        "ps = \"graph-explorer/SWU4.csv\"\n"
      ],
      "execution_count": 0,
      "outputs": []
    },
    {
      "cell_type": "code",
      "metadata": {
        "id": "rdsXDYCfBiYo",
        "colab_type": "code",
        "colab": {}
      },
      "source": [
        "# Initializing dataset names\n",
        "dataset_names = 'SWU4'\n",
        "\n",
        "basepath = 'graph-explorer'\n",
        "\n",
        "# change which atlas you use, here!\n",
        "\n",
        "atlas = 'desikan' # 'desikan' # or 'CPAC200', or 'Talairach'\n",
        "dir_names = basepath + '/' + dataset_names + '/' + atlas\n",
        "#basepath = \"/\"\n",
        "#dir_names = basepath\n",
        "print(dir_names)\n",
        "fs = OrderedDict()\n",
        "fs[dataset_names] = [root + \"/\" + fl for root, dirs, files in os.walk(dir_names)\n",
        "                     for fl in files if fl.endswith(\".gpickle\")]\n",
        "\n",
        "\n",
        "\n",
        "print(\"Datasets: \" + \", \".join([fkey + \" (\" + str(len(fs[fkey])) + \")\"\n",
        "                                for fkey in fs]))\n",
        "print(\"Total Subjects: %d\" % (sum([len(fs[key]) for key in fs])))"
      ],
      "execution_count": 0,
      "outputs": []
    },
    {
      "cell_type": "code",
      "metadata": {
        "id": "cHoORXF7BiYr",
        "colab_type": "code",
        "colab": {}
      },
      "source": [
        "def loadGraphs(filenames, verb=False):\n",
        "    \"\"\"\n",
        "    Given a list of files, returns a dictionary of graphs\n",
        "\n",
        "    Required parameters:\n",
        "        filenames:\n",
        "            - List of filenames for graphs\n",
        "    Optional parameters:\n",
        "        verb:\n",
        "            - Toggles verbose output statements\n",
        "    \"\"\"\n",
        "    #  Initializes empty dictionary\n",
        "    gstruct = OrderedDict()\n",
        "    for idx, files in enumerate(filenames):\n",
        "        if verb:\n",
        "            print(\"Loading: \" + files)\n",
        "        #  Adds graphs to dictionary with key being filename\n",
        "        fname = os.path.basename(files)\n",
        "        gstruct[fname] = nx.read_gpickle(files)\n",
        "    return gstruct\n",
        "\n",
        "def constructGraphDict(names, fs, verb=False):\n",
        "    \"\"\"\n",
        "    Given a set of files and a directory to put things, loads graphs.\n",
        "\n",
        "    Required parameters:\n",
        "        names:\n",
        "            - List of names of the datasets\n",
        "        fs:\n",
        "            - Dictionary of lists of files in each dataset\n",
        "    Optional parameters:\n",
        "        verb:\n",
        "            - Toggles verbose output statements\n",
        "    \"\"\"\n",
        "    #  Loads graphs into memory for all datasets\n",
        "    graphs = OrderedDict()\n",
        "    if verb:\n",
        "        print(\"Loading Dataset: \" + names)\n",
        "    # The key for the dictionary of graphs is the dataset name\n",
        "    graphs[names] = loadGraphs(fs[names], verb=verb)\n",
        "    return graphs"
      ],
      "execution_count": 0,
      "outputs": []
    },
    {
      "cell_type": "code",
      "metadata": {
        "id": "hvCuLVOZBiYt",
        "colab_type": "code",
        "colab": {}
      },
      "source": [
        "graphs = constructGraphDict(dataset_names, fs, verb=False)"
      ],
      "execution_count": 0,
      "outputs": []
    },
    {
      "cell_type": "code",
      "metadata": {
        "id": "rEXmghf7BiYv",
        "colab_type": "code",
        "colab": {}
      },
      "source": [
        "import csv\n",
        "# This gets age and sex, respecitvely.\n",
        "tmp = csv.reader(open(ps,newline='')) # this is the whole phenotype file\n",
        "pheno = OrderedDict()\n",
        "triple = [[t[0].strip(), t[2], int(t[3] == '2')] for t in tmp\n",
        "          if t[3] != '#' and t[2] != '#'][1:]  # female=1->0, male=2->1\n",
        "\n",
        "for idx, trip in enumerate(triple):\n",
        "    pheno[trip[0]] = trip[1:]"
      ],
      "execution_count": 0,
      "outputs": []
    },
    {
      "cell_type": "code",
      "metadata": {
        "id": "6ark9igtBiYx",
        "colab_type": "code",
        "colab": {}
      },
      "source": [
        "## replace with this\n",
        "\n",
        "k = sorted(list(graphs['SWU4'].keys()))\n",
        "k_id = list(key[6:11] for key in k)\n",
        "k_id = k_id[0::2]\n",
        "k_g1 = k[0::2]\n",
        "\n",
        "g1 = []\n",
        "for xx in k_g1:\n",
        "    g1.append(graphs['SWU4'][xx])\n",
        "\n",
        "#Create vectors of labels\n",
        "age = list()\n",
        "sex = list()\n",
        "\n",
        "for key in k_id:\n",
        "    sex.append(pheno[key][1])\n",
        "    age.append(pheno[key][0])"
      ],
      "execution_count": 0,
      "outputs": []
    },
    {
      "cell_type": "markdown",
      "metadata": {
        "id": "cJfiWq3uBiYz",
        "colab_type": "text"
      },
      "source": [
        "## ASSIGNMENT:  \n",
        "(Code above used to get data in the correct format.  Below is a simple example test string with kind of silly features)"
      ]
    },
    {
      "cell_type": "code",
      "metadata": {
        "id": "aKpw0YV_cgcM",
        "colab_type": "code",
        "outputId": "3fcbbff1-22d3-4ec8-bf2b-53d2f003ddc5",
        "colab": {
          "base_uri": "https://localhost:8080/",
          "height": 281
        }
      },
      "source": [
        "# plot a graph\n",
        "import matplotlib.pyplot as plt\n",
        "%matplotlib inline\n",
        "i = 10\n",
        "# convert to numpy\n",
        "matrix = nx.to_numpy_matrix(g1[i], nodelist=sorted(g1[i].nodes())) #this is how you go to a matrix\n",
        "\n",
        "plt.imshow(np.log10(matrix+1),cmap='jet')\n",
        "plt.colorbar()\n",
        "plt.title('connectome example')\n",
        "plt.show()"
      ],
      "execution_count": 0,
      "outputs": [
        {
          "output_type": "display_data",
          "data": {
            "image/png": "[encoded data removed]",
            "text/plain": [
              "<Figure size 432x288 with 2 Axes>"
            ]
          },
          "metadata": {
            "tags": [],
            "needs_background": "light"
          }
        }
      ]
    },
    {
      "cell_type": "code",
      "metadata": {
        "id": "-PIhlldGf7Yr",
        "colab_type": "code",
        "colab": {}
      },
      "source": [
        "# Criteria 1 (25 points) compute and visualize mean connectomes for all of the data "
      ],
      "execution_count": 0,
      "outputs": []
    },
    {
      "cell_type": "code",
      "metadata": {
        "id": "FNER8vs9gAbj",
        "colab_type": "code",
        "colab": {}
      },
      "source": [
        "# Criteria 2 (25 points) compute and visualize class conditional connectomes (e.g., male and female subpopulations)\n",
        " "
      ],
      "execution_count": 0,
      "outputs": []
    },
    {
      "cell_type": "code",
      "metadata": {
        "id": "gEXCp1BAgAth",
        "colab_type": "code",
        "colab": {}
      },
      "source": [
        "# Criteria 3 (30 points) compute 5 different covariates related to graphs\n",
        "# Criteria 4 (20 points) interpret meaning of covariates, with some hypothesis connecting to neuroscience (words and/or code)\n",
        "\n"
      ],
      "execution_count": 0,
      "outputs": []
    },
    {
      "cell_type": "code",
      "metadata": {
        "id": "udMN7YsigVeb",
        "colab_type": "code",
        "colab": {}
      },
      "source": [
        "#Combine features, separate training and test data\n",
        "\n",
        "X = []\n",
        "for i in range(len(g1)):\n",
        "    featvec = []\n",
        "    \n",
        "    dc = nx.algorithms.degree_centrality(g1[i])\n",
        "    dcmean = np.mean(np.asarray(list(dc.values())))\n",
        "    featvec.append(dcmean)\n",
        "\n",
        "    dcall = np.asarray(list(dc.values()))\n",
        "    for ii in dcall:\n",
        "        featvec.append(ii)   \n",
        "    \n",
        "    matrix = nx.to_numpy_matrix(g1[i], nodelist=sorted(g1[i].nodes())) #this is how you go to a matrix\n",
        "    logmatrix = np.log10(np.sum(matrix,0) + 1)\n",
        "    logmatrix = np.ravel(logmatrix)\n",
        "        \n",
        "    for ii in logmatrix:\n",
        "        featvec.append(ii)\n",
        "\n",
        "    xsum = np.asarray(np.sum(matrix))\n",
        "    featvec.append(xsum)\n",
        "    np.shape(featvec)\n",
        "    X.append(featvec)\n",
        "    "
      ],
      "execution_count": 0,
      "outputs": []
    },
    {
      "cell_type": "code",
      "metadata": {
        "id": "8Cyi5g68BiY2",
        "colab_type": "code",
        "colab": {}
      },
      "source": [
        "# Criteria 5 (30 points) build classifier and obtain classification score at 70\\% or higher\n",
        "\n",
        "X_train = X[0:100]\n",
        "Y_train = sex[0:100]\n",
        "\n",
        "X_test = X[100:200]\n",
        "Y_test = sex[100:200]\n",
        "\n",
        "from sklearn.ensemble import RandomForestClassifier\n",
        "from sklearn import svm\n",
        "\n",
        "accuracy = []\n",
        "for ii in range(10): #performance will change over time\n",
        "    #clf = svm.SVC(gamma='scale')\n",
        "    clf = RandomForestClassifier(n_estimators=100)\n",
        "    clf.fit(X_train, Y_train)\n",
        "    acc = (clf.predict(X_test) == Y_test)\n",
        "    accval = (float(np.sum(acc))/float(len(Y_test)))\n",
        "    accuracy.append(accval)\n",
        "    print('Accuracy:',accval)\n",
        "\n",
        "print('Overall Accuracy:',str(np.mean(accuracy)))"
      ],
      "execution_count": 0,
      "outputs": []
    },
    {
      "cell_type": "code",
      "metadata": {
        "id": "g2geKxyHglet",
        "colab_type": "code",
        "colab": {}
      },
      "source": [
        ""
      ],
      "execution_count": 0,
      "outputs": []
    }
  ]
}